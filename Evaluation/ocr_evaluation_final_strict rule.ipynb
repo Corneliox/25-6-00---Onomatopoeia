{
 "cells": [
  {
   "cell_type": "markdown",
   "id": "52e11066",
   "metadata": {},
   "source": [
    "### Import & Configuration"
   ]
  },
  {
   "cell_type": "code",
   "execution_count": 1,
   "id": "e16a893a",
   "metadata": {},
   "outputs": [
    {
     "name": "stdout",
     "output_type": "stream",
     "text": [
      "✅ Pustaka dan konfigurasi berhasil dimuat.\n"
     ]
    }
   ],
   "source": [
    "import os\n",
    "# --- FIX FOR OMP: Error #15 ---\n",
    "# Variabel lingkungan ini adalah solusi untuk konflik antara runtime OpenMP.\n",
    "# Ini memberitahu sistem untuk mengizinkan beberapa pustaka OpenMP untuk dimuat.\n",
    "# Letakkan ini SEBELUM mengimpor torch, pandas, atau numpy.\n",
    "os.environ[\"KMP_DUPLICATE_LIB_OK\"] = \"TRUE\"\n",
    "\n",
    "import easyocr\n",
    "import pandas as pd\n",
    "from tqdm.notebook import tqdm # Gunakan tqdm.notebook untuk tampilan yang lebih baik di Jupyter\n",
    "import re\n",
    "import torch\n",
    "import matplotlib.pyplot as plt\n",
    "import seaborn as sns\n",
    "\n",
    "# --- CONFIGURATION ---\n",
    "# The root directory containing all your experiment folders (exp1, exp2, etc.)\n",
    "ROOT_DIR = \"dataset_eval\"\n",
    "OUTPUT_CSV = \"ocr_accuracy_results.csv\"\n",
    "OUTPUT_DIR_PLOTS = \"output_plots\" # Folder untuk menyimpan visualisasi\n",
    "\n",
    "print(\"✅ Pustaka dan konfigurasi berhasil dimuat.\")"
   ]
  },
  {
   "cell_type": "markdown",
   "id": "370a74d7",
   "metadata": {},
   "source": [
    "### Def Library Cell"
   ]
  },
  {
   "cell_type": "code",
   "execution_count": 2,
   "id": "20f5c2ac",
   "metadata": {},
   "outputs": [
    {
     "name": "stdout",
     "output_type": "stream",
     "text": [
      "✅ Fungsi bantuan (get_ground_truth, normalize_text) telah didefinisikan.\n"
     ]
    }
   ],
   "source": [
    "def get_ground_truth(filename):\n",
    "    \"\"\"Mengekstrak teks onomatope yang diharapkan dari nama file.\"\"\"\n",
    "    # Normalisasi nama file untuk pencocokan yang konsisten\n",
    "    name_part = filename.split('_')[0].lower()\n",
    "    \n",
    "    if \"byur\" in name_part:\n",
    "        return \"byur\"\n",
    "    if \"dutt\" in name_part: # Mencocokkan Dutt, Duttt, dll.\n",
    "        return \"duuttt\"\n",
    "    if \"gluduk\" in name_part:\n",
    "        return \"gluduk gluduk gluduk\"\n",
    "    if \"gong\" in name_part: # Mencocokkan Gong, Gongg, dll.\n",
    "        return \"gonggg\"\n",
    "    if \"ting\" in name_part:\n",
    "        return \"ting\"\n",
    "    if \"toktok\" in name_part:\n",
    "        return \"tok tok tok\"\n",
    "    return None\n",
    "\n",
    "def normalize_text(text):\n",
    "    \"\"\"Membersihkan dan menormalkan teks untuk perbandingan.\"\"\"\n",
    "    # Ubah ke huruf kecil, hapus semua karakter non-alfanumerik kecuali spasi\n",
    "    text = text.lower()\n",
    "    text = re.sub(r'[^a-z0-9\\s]', '', text)\n",
    "    # Gabungkan beberapa spasi menjadi satu\n",
    "    text = re.sub(r'\\s+', ' ', text).strip()\n",
    "    return text\n",
    "\n",
    "print(\"✅ Fungsi bantuan (get_ground_truth, normalize_text) telah didefinisikan.\")"
   ]
  },
  {
   "cell_type": "markdown",
   "id": "93e281bf",
   "metadata": {},
   "source": [
    "### Model Initiation and preparation"
   ]
  },
  {
   "cell_type": "code",
   "execution_count": 3,
   "id": "5b34f6d3",
   "metadata": {},
   "outputs": [
    {
     "name": "stdout",
     "output_type": "stream",
     "text": [
      "Initializing EasyOCR... This might take a moment.\n",
      "✅ EasyOCR ready to be used.\n"
     ]
    }
   ],
   "source": [
    "print(\"Initializing EasyOCR... This might take a moment.\")\n",
    "# Inisialisasi pembaca OCR untuk bahasa Inggris.\n",
    "# Gunakan gpu=False jika Anda mengalami crash karena memori GPU tidak cukup.\n",
    "reader = easyocr.Reader(['en']) \n",
    "\n",
    "# Siapkan list kosong untuk menampung semua hasil dari semua folder\n",
    "all_results = []\n",
    "\n",
    "print(\"✅ EasyOCR ready to be used.\")"
   ]
  },
  {
   "cell_type": "markdown",
   "id": "73237ae9",
   "metadata": {},
   "source": [
    "#### Folder by Folder Processing"
   ]
  },
  {
   "cell_type": "code",
   "execution_count": 4,
   "id": "e8cf7590",
   "metadata": {},
   "outputs": [
    {
     "name": "stdout",
     "output_type": "stream",
     "text": [
      "Ditemukan 5 folder eksperimen untuk diproses: ['exp1_sd15_2050', 'exp2_sd15_3050', 'exp3_sd15_3050_v2', 'exp4_sd15_3050_v3', 'exp5_sdxl_a6000']\n",
      "\n",
      "▶️ Memulai pemrosesan untuk eksperimen: exp1_sd15_2050...\n"
     ]
    },
    {
     "data": {
      "application/vnd.jupyter.widget-view+json": {
       "model_id": "f4a8e63811be43febb1fb539b65f978f",
       "version_major": 2,
       "version_minor": 0
      },
      "text/plain": [
       "Membaca teks dari exp1_sd15_2050:   0%|          | 0/60 [00:00<?, ?it/s]"
      ]
     },
     "metadata": {},
     "output_type": "display_data"
    },
    {
     "name": "stdout",
     "output_type": "stream",
     "text": [
      "✅ Selesai memproses exp1_sd15_2050.\n",
      "\n",
      "▶️ Memulai pemrosesan untuk eksperimen: exp2_sd15_3050...\n"
     ]
    },
    {
     "data": {
      "application/vnd.jupyter.widget-view+json": {
       "model_id": "de6a600673fe46b192425aba334fe846",
       "version_major": 2,
       "version_minor": 0
      },
      "text/plain": [
       "Membaca teks dari exp2_sd15_3050:   0%|          | 0/60 [00:00<?, ?it/s]"
      ]
     },
     "metadata": {},
     "output_type": "display_data"
    },
    {
     "name": "stdout",
     "output_type": "stream",
     "text": [
      "✅ Selesai memproses exp2_sd15_3050.\n",
      "\n",
      "▶️ Memulai pemrosesan untuk eksperimen: exp3_sd15_3050_v2...\n"
     ]
    },
    {
     "data": {
      "application/vnd.jupyter.widget-view+json": {
       "model_id": "366b7cdae08846acbcab2379109f4b45",
       "version_major": 2,
       "version_minor": 0
      },
      "text/plain": [
       "Membaca teks dari exp3_sd15_3050_v2:   0%|          | 0/60 [00:00<?, ?it/s]"
      ]
     },
     "metadata": {},
     "output_type": "display_data"
    },
    {
     "name": "stdout",
     "output_type": "stream",
     "text": [
      "✅ Selesai memproses exp3_sd15_3050_v2.\n",
      "\n",
      "▶️ Memulai pemrosesan untuk eksperimen: exp4_sd15_3050_v3...\n"
     ]
    },
    {
     "data": {
      "application/vnd.jupyter.widget-view+json": {
       "model_id": "80834172b1b14036bf2bed5b1cc1db7b",
       "version_major": 2,
       "version_minor": 0
      },
      "text/plain": [
       "Membaca teks dari exp4_sd15_3050_v3:   0%|          | 0/60 [00:00<?, ?it/s]"
      ]
     },
     "metadata": {},
     "output_type": "display_data"
    },
    {
     "name": "stdout",
     "output_type": "stream",
     "text": [
      "✅ Selesai memproses exp4_sd15_3050_v3.\n",
      "\n",
      "▶️ Memulai pemrosesan untuk eksperimen: exp5_sdxl_a6000...\n"
     ]
    },
    {
     "data": {
      "application/vnd.jupyter.widget-view+json": {
       "model_id": "45975ac1315248688a3b5cd3f726a76a",
       "version_major": 2,
       "version_minor": 0
      },
      "text/plain": [
       "Membaca teks dari exp5_sdxl_a6000:   0%|          | 0/60 [00:00<?, ?it/s]"
      ]
     },
     "metadata": {},
     "output_type": "display_data"
    },
    {
     "name": "stdout",
     "output_type": "stream",
     "text": [
      "✅ Selesai memproses exp5_sdxl_a6000.\n",
      "\n",
      "🎉 Semua folder telah berhasil diproses!\n"
     ]
    }
   ],
   "source": [
    "# Cari semua folder eksperimen di dalam direktori root\n",
    "experiment_folders = [d for d in os.listdir(ROOT_DIR) if os.path.isdir(os.path.join(ROOT_DIR, d))]\n",
    "\n",
    "print(f\"Ditemukan {len(experiment_folders)} folder eksperimen untuk diproses: {experiment_folders}\")\n",
    "\n",
    "# Iterasi dan proses setiap folder\n",
    "for experiment_name in experiment_folders:\n",
    "    dirpath = os.path.join(ROOT_DIR, experiment_name)\n",
    "    image_files = [f for f in os.listdir(dirpath) if f.lower().endswith(('.png', '.jpg', '.jpeg'))]\n",
    "    \n",
    "    if not image_files:\n",
    "        continue\n",
    "\n",
    "    print(f\"\\n▶️ Memulai pemrosesan untuk eksperimen: {experiment_name}...\")\n",
    "    \n",
    "    for filename in tqdm(image_files, desc=f\"Membaca teks dari {experiment_name}\"):\n",
    "        image_path = os.path.join(dirpath, filename)\n",
    "        ground_truth = get_ground_truth(filename)\n",
    "        \n",
    "        if ground_truth is None:\n",
    "            continue\n",
    "\n",
    "        try:\n",
    "            ocr_result = reader.readtext(image_path, detail=0)\n",
    "            recognized_text = \" \".join(ocr_result)\n",
    "            normalized_recognized = normalize_text(recognized_text)\n",
    "            normalized_truth = normalize_text(ground_truth)\n",
    "            is_correct = 1 if normalized_recognized == normalized_truth else 0\n",
    "            \n",
    "            all_results.append({\n",
    "                \"experiment\": experiment_name, \"filename\": filename,\n",
    "                \"ground_truth\": ground_truth, \"recognized_text\": recognized_text,\n",
    "                \"is_correct\": is_correct\n",
    "            })\n",
    "        except Exception as e:\n",
    "            all_results.append({\n",
    "                \"experiment\": experiment_name, \"filename\": filename,\n",
    "                \"ground_truth\": ground_truth, \"recognized_text\": f\"ERROR: {e}\",\n",
    "                \"is_correct\": 0\n",
    "            })\n",
    "        finally:\n",
    "            # FIX PENTING: Bersihkan cache memori GPU setelah setiap gambar\n",
    "            if torch.cuda.is_available():\n",
    "                torch.cuda.empty_cache()\n",
    "\n",
    "    print(f\"✅ Selesai memproses {experiment_name}.\")\n",
    "\n",
    "print(\"\\n🎉 Semua folder telah berhasil diproses!\")"
   ]
  },
  {
   "cell_type": "markdown",
   "id": "868bcc82",
   "metadata": {},
   "source": [
    "### Final Analysis and Storing"
   ]
  },
  {
   "cell_type": "code",
   "execution_count": 6,
   "id": "458c0c0c",
   "metadata": {},
   "outputs": [
    {
     "name": "stdout",
     "output_type": "stream",
     "text": [
      "\n",
      "--- Generating Visualizations ---\n",
      "Bar chart performa terbaik disimpan di: output_plots\\best_experiment_ocr_performance.png\n"
     ]
    },
    {
     "name": "stderr",
     "output_type": "stream",
     "text": [
      "C:\\Users\\Pongo\\AppData\\Local\\Temp\\ipykernel_15292\\4136363224.py:19: FutureWarning: \n",
      "\n",
      "Passing `palette` without assigning `hue` is deprecated and will be removed in v0.14.0. Assign the `x` variable to `hue` and set `legend=False` for the same effect.\n",
      "\n",
      "  sns.barplot(data=accuracy_by_exp, x='experiment', y='accuracy_%', palette='viridis')\n"
     ]
    },
    {
     "name": "stdout",
     "output_type": "stream",
     "text": [
      "Heatmap keberhasilan disimpan di: output_plots\\ocr_success_heatmap.png\n",
      "\n",
      "--- OCR Evaluation Complete ---\n",
      "Hasil detail disimpan ke ocr_accuracy_results.csv\n",
      "Akurasi OCR Keseluruhan: 4.00%\n",
      "\n",
      "Akurasi per eksperimen:\n",
      "       experiment  accuracy_%\n",
      "  exp5_sdxl_a6000    8.333333\n",
      "   exp1_sd15_2050    5.000000\n",
      "   exp2_sd15_3050    3.333333\n",
      "exp3_sd15_3050_v2    3.333333\n",
      "exp4_sd15_3050_v3    0.000000\n"
     ]
    }
   ],
   "source": [
    "if not all_results:\n",
    "    print(\"Tidak ada gambar yang diproses. Harap jalankan Sel 4 terlebih dahulu.\")\n",
    "else:\n",
    "    # Buat dan simpan DataFrame\n",
    "    df = pd.DataFrame(all_results)\n",
    "    df.to_csv(OUTPUT_CSV, index=False)\n",
    "    \n",
    "    # --- SECTION VISUALIZATION ---\n",
    "    print(\"\\n--- Generating Visualizations ---\")\n",
    "    os.makedirs(OUTPUT_DIR_PLOTS, exist_ok=True)\n",
    "\n",
    "    # 1. Visualisasi Akurasi per Eksperimen (Bar Chart)\n",
    "    accuracy_by_exp = df.groupby('experiment')['is_correct'].mean().reset_index()\n",
    "    accuracy_by_exp['is_correct'] *= 100\n",
    "    accuracy_by_exp.rename(columns={'is_correct': 'accuracy_%'}, inplace=True)\n",
    "    accuracy_by_exp.sort_values('accuracy_%', ascending=False, inplace=True)\n",
    "\n",
    "    plt.figure(figsize=(12, 7))\n",
    "    sns.barplot(data=accuracy_by_exp, x='experiment', y='accuracy_%', palette='viridis')\n",
    "    plt.title('Performa OCR Terbaik per Eksperimen', fontsize=16)\n",
    "    plt.xlabel('Eksperimen', fontsize=12)\n",
    "    plt.ylabel('Akurasi (%)', fontsize=12)\n",
    "    plt.xticks(rotation=45, ha='right')\n",
    "    plt.tight_layout()\n",
    "    plot_path_bar = os.path.join(OUTPUT_DIR_PLOTS, 'best_experiment_ocr_performance.png')\n",
    "    plt.savefig(plot_path_bar)\n",
    "    plt.close()\n",
    "    print(f\"Bar chart performa terbaik disimpan di: {plot_path_bar}\")\n",
    "    \n",
    "    # 2. Visualisasi Keberhasilan OCR per Kategori (Heatmap)\n",
    "    pivot_df = df.pivot_table(index='experiment', columns='ground_truth', values='is_correct', aggfunc='sum')\n",
    "    \n",
    "    plt.figure(figsize=(14, 8))\n",
    "    sns.heatmap(pivot_df, annot=True, fmt='g', cmap='YlGnBu', linewidths=.5)\n",
    "    plt.title('Heatmap Keberhasilan OCR (Jumlah Gambar yang Lolos)', fontsize=16)\n",
    "    plt.xlabel('Jenis Onomatope', fontsize=12)\n",
    "    plt.ylabel('Eksperimen', fontsize=12)\n",
    "    plt.tight_layout()\n",
    "    plot_path_heatmap = os.path.join(OUTPUT_DIR_PLOTS, 'ocr_success_heatmap.png')\n",
    "    plt.savefig(plot_path_heatmap)\n",
    "    plt.close()\n",
    "    print(f\"Heatmap keberhasilan disimpan di: {plot_path_heatmap}\")\n",
    "\n",
    "    # --- SECTION SUMMARY ---\n",
    "    overall_accuracy = df['is_correct'].mean() * 100\n",
    "    print(\"\\n--- OCR Evaluation Complete ---\")\n",
    "    print(f\"Hasil detail disimpan ke {OUTPUT_CSV}\")\n",
    "    print(f\"Akurasi OCR Keseluruhan: {overall_accuracy:.2f}%\")\n",
    "    print(\"\\nAkurasi per eksperimen:\")\n",
    "    print(accuracy_by_exp.to_string(index=False))"
   ]
  }
 ],
 "metadata": {
  "kernelspec": {
   "display_name": "base",
   "language": "python",
   "name": "python3"
  },
  "language_info": {
   "codemirror_mode": {
    "name": "ipython",
    "version": 3
   },
   "file_extension": ".py",
   "mimetype": "text/x-python",
   "name": "python",
   "nbconvert_exporter": "python",
   "pygments_lexer": "ipython3",
   "version": "3.12.1"
  }
 },
 "nbformat": 4,
 "nbformat_minor": 5
}
