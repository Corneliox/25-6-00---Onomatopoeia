{
 "cells": [
  {
   "cell_type": "code",
   "execution_count": 4,
   "id": "d02bb2fa",
   "metadata": {},
   "outputs": [
    {
     "name": "stdout",
     "output_type": "stream",
     "text": [
      "Using device: cuda\n",
      "Loading aesthetic model: openai/clip-vit-large-patch14...\n"
     ]
    },
    {
     "data": {
      "application/vnd.jupyter.widget-view+json": {
       "model_id": "8aa3dd897c09498b8ce7af58f3203278",
       "version_major": 2,
       "version_minor": 0
      },
      "text/plain": [
       "Fetching 1 files:   0%|          | 0/1 [00:00<?, ?it/s]"
      ]
     },
     "metadata": {},
     "output_type": "display_data"
    },
    {
     "name": "stdout",
     "output_type": "stream",
     "text": [
      "Aesthetic model loaded.\n",
      "Found 60 images. Calculating aesthetic scores...\n"
     ]
    },
    {
     "name": "stderr",
     "output_type": "stream",
     "text": [
      "Processing Images: 100%|██████████| 60/60 [00:06<00:00,  9.52it/s]"
     ]
    },
    {
     "name": "stdout",
     "output_type": "stream",
     "text": [
      "\n",
      "--- Evaluation Complete ---\n",
      "Results saved to aesthetic_scores.csv\n",
      "Average Aesthetic Score: 14.4154\n",
      "\n",
      "Top 5 images with the highest aesthetic scores:\n",
      "             filename  aesthetic_score\n",
      "23  Gluduk_00004_.png        18.234726\n",
      "24  Gluduk_00005_.png        18.217476\n",
      "20  Gluduk_00001_.png        17.954725\n",
      "29  Gluduk_00010_.png        17.459297\n",
      "19    Dutt_00010_.png        17.136108\n"
     ]
    },
    {
     "name": "stderr",
     "output_type": "stream",
     "text": [
      "\n"
     ]
    }
   ],
   "source": [
    "import os\n",
    "import torch\n",
    "import pandas as pd\n",
    "from PIL import Image\n",
    "from transformers import CLIPProcessor, CLIPModel\n",
    "from tqdm import tqdm\n",
    "\n",
    "# --- CONFIGURATION ---\n",
    "# IMPORTANT: Change this to the specific experiment folder you want to evaluate.\n",
    "# IMAGE_DIR = \"dataset_eval/exp1_sd15_2050\" \n",
    "IMAGE_DIR = \"dataset_eval/exp2_sd15_3050\" \n",
    "# IMAGE_DIR = \"dataset_eval/exp3_sd15_3050_v2\" \n",
    "# IMAGE_DIR = \"dataset_eval/exp4_sd15_3050_v3\" \n",
    "# IMAGE_DIR = \"dataset_eval/exp5_sdxl_a6000\" \n",
    "OUTPUT_CSV = \"aesthetic_scores.csv\"\n",
    "MODEL_ID = \"openai/clip-vit-large-patch14\"\n",
    "\n",
    "def load_aesthetic_model(device):\n",
    "    \"\"\"Loads the pre-trained aesthetic scoring model.\"\"\"\n",
    "    print(f\"Loading aesthetic model: {MODEL_ID}...\")\n",
    "    model = CLIPModel.from_pretrained(MODEL_ID).to(device)\n",
    "    processor = CLIPProcessor.from_pretrained(MODEL_ID)\n",
    "    print(\"Aesthetic model loaded.\")\n",
    "    return model, processor\n",
    "\n",
    "def calculate_aesthetic_score(image, model, processor, device):\n",
    "    \"\"\"Calculates the aesthetic score for a single image.\"\"\"\n",
    "    inputs = processor(images=image, return_tensors=\"pt\", text=\"aesthetic\")\n",
    "    inputs = {k: v.to(device) for k, v in inputs.items()}\n",
    "    \n",
    "    with torch.no_grad():\n",
    "        outputs = model(**inputs)\n",
    "        # The logits_per_image gives a score of how well the image matches \"aesthetic\"\n",
    "        score = outputs.logits_per_image.item()\n",
    "    return score\n",
    "\n",
    "def main():\n",
    "    \"\"\"Main function to process all images in a directory and save scores.\"\"\"\n",
    "    if not os.path.exists(IMAGE_DIR):\n",
    "        print(f\"Error: The directory '{IMAGE_DIR}' does not exist. Please check the path.\")\n",
    "        return\n",
    "\n",
    "    device = \"cuda\" if torch.cuda.is_available() else \"cpu\"\n",
    "    print(f\"Using device: {device}\")\n",
    "    \n",
    "    model, processor = load_aesthetic_model(device)\n",
    "    \n",
    "    results = []\n",
    "    image_files = [f for f in os.listdir(IMAGE_DIR) if f.lower().endswith(('.png', '.jpg', '.jpeg'))]\n",
    "\n",
    "    if not image_files:\n",
    "        print(f\"No images found in '{IMAGE_DIR}'.\")\n",
    "        return\n",
    "\n",
    "    print(f\"Found {len(image_files)} images. Calculating aesthetic scores...\")\n",
    "    for filename in tqdm(image_files, desc=\"Processing Images\"):\n",
    "        try:\n",
    "            image_path = os.path.join(IMAGE_DIR, filename)\n",
    "            image = Image.open(image_path).convert(\"RGB\")\n",
    "            score = calculate_aesthetic_score(image, model, processor, device)\n",
    "            results.append({\"filename\": filename, \"aesthetic_score\": score})\n",
    "        except Exception as e:\n",
    "            print(f\"Could not process {filename}: {e}\")\n",
    "\n",
    "    if not results:\n",
    "        print(\"No images were successfully scored.\")\n",
    "        return\n",
    "\n",
    "    # Create and save a DataFrame\n",
    "    df = pd.DataFrame(results)\n",
    "    df.sort_values(by=\"aesthetic_score\", ascending=False, inplace=True)\n",
    "    df.to_csv(OUTPUT_CSV, index=False)\n",
    "    \n",
    "    average_score = df['aesthetic_score'].mean()\n",
    "    print(\"\\n--- Evaluation Complete ---\")\n",
    "    print(f\"Results saved to {OUTPUT_CSV}\")\n",
    "    print(f\"Average Aesthetic Score: {average_score:.4f}\")\n",
    "    print(\"\\nTop 5 images with the highest aesthetic scores:\")\n",
    "    print(df.head(5))\n",
    "\n",
    "if __name__ == \"__main__\":\n",
    "    main()\n"
   ]
  }
 ],
 "metadata": {
  "kernelspec": {
   "display_name": "base",
   "language": "python",
   "name": "python3"
  },
  "language_info": {
   "codemirror_mode": {
    "name": "ipython",
    "version": 3
   },
   "file_extension": ".py",
   "mimetype": "text/x-python",
   "name": "python",
   "nbconvert_exporter": "python",
   "pygments_lexer": "ipython3",
   "version": "3.12.1"
  }
 },
 "nbformat": 4,
 "nbformat_minor": 5
}
