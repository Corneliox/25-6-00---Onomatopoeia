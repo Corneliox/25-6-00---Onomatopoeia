{
 "cells": [
  {
   "cell_type": "markdown",
   "id": "8aa60bf7",
   "metadata": {},
   "source": [
    "### Library Import and Early Configuration"
   ]
  },
  {
   "cell_type": "code",
   "execution_count": 1,
   "id": "d02bb2fa",
   "metadata": {},
   "outputs": [
    {
     "name": "stdout",
     "output_type": "stream",
     "text": [
      "✅ Konfigurasi dan pustaka berhasil dimuat.\n"
     ]
    }
   ],
   "source": [
    "import os\n",
    "import torch\n",
    "import pandas as pd\n",
    "from PIL import Image\n",
    "from transformers import CLIPProcessor, CLIPModel\n",
    "from tqdm.notebook import tqdm # Menggunakan versi notebook dari tqdm untuk visualisasi yang lebih baik\n",
    "import matplotlib.pyplot as plt\n",
    "import shutil\n",
    "\n",
    "# --- KONFIGURASI ---\n",
    "# Direktori root yang berisi semua folder eksperimen Anda\n",
    "ROOT_DIR = \"dataset_eval\"\n",
    "# Direktori output utama untuk semua hasil estetika\n",
    "MAIN_OUTPUT_DIR = \"Output/Aesthetic\"\n",
    "# Model CLIP yang digunakan untuk menilai estetika\n",
    "MODEL_ID = \"openai/clip-vit-large-patch14\"\n",
    "# Berapa persen di atas rata-rata sebuah gambar dianggap \"baik\"\n",
    "GOOD_THRESHOLD_MULTIPLIER = 1.05  # 1.05 = 5% di atas rata-rata\n",
    "# Jumlah gambar teratas yang akan ditampilkan di plot\n",
    "TOP_N_IMAGES_TO_PLOT = 10\n",
    "\n",
    "print(\"✅ Konfigurasi dan pustaka berhasil dimuat.\")"
   ]
  },
  {
   "cell_type": "markdown",
   "id": "8bff23bb",
   "metadata": {},
   "source": [
    "### Function Definition Helper"
   ]
  },
  {
   "cell_type": "code",
   "execution_count": 2,
   "id": "fa39cbd9",
   "metadata": {},
   "outputs": [
    {
     "name": "stdout",
     "output_type": "stream",
     "text": [
      "✅ Fungsi-fungsi bantuan telah didefinisikan.\n"
     ]
    }
   ],
   "source": [
    "def load_aesthetic_model(device):\n",
    "    \"\"\"Memuat model penilaian estetika yang sudah dilatih.\"\"\"\n",
    "    print(f\"Memuat model estetika: {MODEL_ID}...\")\n",
    "    model = CLIPModel.from_pretrained(MODEL_ID).to(device)\n",
    "    processor = CLIPProcessor.from_pretrained(MODEL_ID)\n",
    "    print(\"Model estetika berhasil dimuat.\")\n",
    "    return model, processor\n",
    "\n",
    "def calculate_aesthetic_score(image, model, processor, device):\n",
    "    \"\"\"Menghitung skor estetika untuk satu gambar.\"\"\"\n",
    "    inputs = processor(images=image, return_tensors=\"pt\", text=\"aesthetic\")\n",
    "    inputs = {k: v.to(device) for k, v in inputs.items()}\n",
    "    \n",
    "    with torch.no_grad():\n",
    "        outputs = model(**inputs)\n",
    "        score = outputs.logits_per_image.item()\n",
    "    return score\n",
    "\n",
    "def create_ranking_plot_with_images(df_ranked, image_dir, plot_path, top_n=10):\n",
    "    \"\"\"Membuat plot peringkat skor dengan menampilkan gambar-gambar teratas.\"\"\"\n",
    "    top_df = df_ranked.head(top_n)\n",
    "    \n",
    "    fig, ax = plt.subplots(figsize=(15, 10))\n",
    "    \n",
    "    # Plot utama untuk skor\n",
    "    ax.plot(df_ranked.index + 1, df_ranked['aesthetic_score'], marker='o', linestyle='-', label='Skor Estetika')\n",
    "    ax.set_title(f'Peringkat Skor Estetika - {os.path.basename(image_dir)}', fontsize=16)\n",
    "    ax.set_xlabel('Peringkat', fontsize=12)\n",
    "    ax.set_ylabel('Skor Estetika', fontsize=12)\n",
    "    ax.grid(True)\n",
    "    ax.legend()\n",
    "    \n",
    "    # Tambahkan gambar-gambar teratas ke dalam plot\n",
    "    for i, (idx, row) in enumerate(top_df.iterrows()):\n",
    "        try:\n",
    "            img_path = os.path.join(image_dir, row['filename'])\n",
    "            img = Image.open(img_path)\n",
    "            \n",
    "            # Posisi dan ukuran untuk setiap gambar inset\n",
    "            img_ax = fig.add_axes([0.08 + i * 0.085, 0.85, 0.08, 0.08])\n",
    "            img_ax.imshow(img)\n",
    "            img_ax.set_title(f\"#{i+1}\", fontsize=10)\n",
    "            img_ax.axis('off')\n",
    "        except FileNotFoundError:\n",
    "            print(f\"Gambar tidak ditemukan untuk diplot: {row['filename']}\")\n",
    "            \n",
    "    plt.tight_layout(rect=[0, 0, 1, 0.85])\n",
    "    plt.savefig(plot_path)\n",
    "    plt.close()\n",
    "\n",
    "print(\"✅ Fungsi-fungsi bantuan telah didefinisikan.\")"
   ]
  },
  {
   "cell_type": "markdown",
   "id": "40532e7f",
   "metadata": {},
   "source": [
    "### Model Load and Early Processing "
   ]
  },
  {
   "cell_type": "code",
   "execution_count": 3,
   "id": "26dc21fd",
   "metadata": {},
   "outputs": [
    {
     "name": "stdout",
     "output_type": "stream",
     "text": [
      "Menggunakan device: cuda\n",
      "Memuat model estetika: openai/clip-vit-large-patch14...\n"
     ]
    },
    {
     "name": "stderr",
     "output_type": "stream",
     "text": [
      "Using a slow image processor as `use_fast` is unset and a slow processor was saved with this model. `use_fast=True` will be the default behavior in v4.52, even if the model was saved with a slow processor. This will result in minor differences in outputs. You'll still be able to use a slow processor with `use_fast=False`.\n"
     ]
    },
    {
     "data": {
      "application/vnd.jupyter.widget-view+json": {
       "model_id": "badddb53e2d5440e9af2a9a701387587",
       "version_major": 2,
       "version_minor": 0
      },
      "text/plain": [
       "Fetching 1 files:   0%|          | 0/1 [00:00<?, ?it/s]"
      ]
     },
     "metadata": {},
     "output_type": "display_data"
    },
    {
     "name": "stdout",
     "output_type": "stream",
     "text": [
      "Model estetika berhasil dimuat.\n",
      "Ditemukan 5 eksperimen untuk dievaluasi: ['exp1_sd15_2050', 'exp2_sd15_3050', 'exp3_sd15_3050_v2', 'exp4_sd15_3050_v3', 'exp5_sdxl_a6000']\n"
     ]
    }
   ],
   "source": [
    "# Tentukan perangkat\n",
    "device = \"cuda\" if torch.cuda.is_available() else \"cpu\"\n",
    "print(f\"Menggunakan device: {device}\")\n",
    "\n",
    "# Muat model (hanya perlu dilakukan sekali)\n",
    "model, processor = load_aesthetic_model(device)\n",
    "\n",
    "# Cari semua folder eksperimen yang akan dievaluasi\n",
    "experiment_folders = [d for d in os.listdir(ROOT_DIR) if os.path.isdir(os.path.join(ROOT_DIR, d))]\n",
    "\n",
    "if not experiment_folders:\n",
    "    print(f\"Tidak ada folder eksperimen ditemukan di '{ROOT_DIR}'.\")\n",
    "else:\n",
    "    print(f\"Ditemukan {len(experiment_folders)} eksperimen untuk dievaluasi: {experiment_folders}\")"
   ]
  },
  {
   "cell_type": "markdown",
   "id": "e636e8de",
   "metadata": {},
   "source": [
    "### Process and Visualization"
   ]
  },
  {
   "cell_type": "code",
   "execution_count": 4,
   "id": "54d93cb2",
   "metadata": {},
   "outputs": [
    {
     "name": "stdout",
     "output_type": "stream",
     "text": [
      "\n",
      "▶️ Memproses 60 gambar dari eksperimen: exp1_sd15_2050\n"
     ]
    },
    {
     "data": {
      "application/vnd.jupyter.widget-view+json": {
       "model_id": "fa3541a19a574e08a9cc5a923fd4fd34",
       "version_major": 2,
       "version_minor": 0
      },
      "text/plain": [
       "Menilai exp1_sd15_2050:   0%|          | 0/60 [00:00<?, ?it/s]"
      ]
     },
     "metadata": {},
     "output_type": "display_data"
    },
    {
     "name": "stdout",
     "output_type": "stream",
     "text": [
      "Skor rata-rata: 14.4622 | Ambang batas 'Baik': 15.1853\n",
      "Menyimpan 21 gambar 'baik' ke: Output/Aesthetic\\exp1_sd15_2050\\good_images\n"
     ]
    },
    {
     "name": "stderr",
     "output_type": "stream",
     "text": [
      "C:\\Users\\Pongo\\AppData\\Local\\Temp\\ipykernel_29460\\1382552525.py:47: UserWarning: This figure includes Axes that are not compatible with tight_layout, so results might be incorrect.\n",
      "  plt.tight_layout(rect=[0, 0, 1, 0.85])\n"
     ]
    },
    {
     "name": "stdout",
     "output_type": "stream",
     "text": [
      "Plot peringkat disimpan di: Output/Aesthetic\\exp1_sd15_2050\\ranked_plot_with_images_exp1_sd15_2050.png\n",
      "✅ Selesai memproses exp1_sd15_2050.\n",
      "\n",
      "▶️ Memproses 60 gambar dari eksperimen: exp2_sd15_3050\n"
     ]
    },
    {
     "data": {
      "application/vnd.jupyter.widget-view+json": {
       "model_id": "29d52a50dc74446d94a69637b1122c93",
       "version_major": 2,
       "version_minor": 0
      },
      "text/plain": [
       "Menilai exp2_sd15_3050:   0%|          | 0/60 [00:00<?, ?it/s]"
      ]
     },
     "metadata": {},
     "output_type": "display_data"
    },
    {
     "name": "stdout",
     "output_type": "stream",
     "text": [
      "Skor rata-rata: 14.4154 | Ambang batas 'Baik': 15.1361\n",
      "Menyimpan 21 gambar 'baik' ke: Output/Aesthetic\\exp2_sd15_3050\\good_images\n",
      "Plot peringkat disimpan di: Output/Aesthetic\\exp2_sd15_3050\\ranked_plot_with_images_exp2_sd15_3050.png\n",
      "✅ Selesai memproses exp2_sd15_3050.\n",
      "\n",
      "▶️ Memproses 60 gambar dari eksperimen: exp3_sd15_3050_v2\n"
     ]
    },
    {
     "data": {
      "application/vnd.jupyter.widget-view+json": {
       "model_id": "1bca3b4cceed451aa976d5e98bbc269a",
       "version_major": 2,
       "version_minor": 0
      },
      "text/plain": [
       "Menilai exp3_sd15_3050_v2:   0%|          | 0/60 [00:00<?, ?it/s]"
      ]
     },
     "metadata": {},
     "output_type": "display_data"
    },
    {
     "name": "stdout",
     "output_type": "stream",
     "text": [
      "Skor rata-rata: 12.5682 | Ambang batas 'Baik': 13.1966\n",
      "Menyimpan 15 gambar 'baik' ke: Output/Aesthetic\\exp3_sd15_3050_v2\\good_images\n",
      "Plot peringkat disimpan di: Output/Aesthetic\\exp3_sd15_3050_v2\\ranked_plot_with_images_exp3_sd15_3050_v2.png\n",
      "✅ Selesai memproses exp3_sd15_3050_v2.\n",
      "\n",
      "▶️ Memproses 60 gambar dari eksperimen: exp4_sd15_3050_v3\n"
     ]
    },
    {
     "data": {
      "application/vnd.jupyter.widget-view+json": {
       "model_id": "148a82a6be6e4c3f8893a6b8a7002ef5",
       "version_major": 2,
       "version_minor": 0
      },
      "text/plain": [
       "Menilai exp4_sd15_3050_v3:   0%|          | 0/60 [00:00<?, ?it/s]"
      ]
     },
     "metadata": {},
     "output_type": "display_data"
    },
    {
     "name": "stdout",
     "output_type": "stream",
     "text": [
      "Skor rata-rata: 13.5991 | Ambang batas 'Baik': 14.2790\n",
      "Menyimpan 26 gambar 'baik' ke: Output/Aesthetic\\exp4_sd15_3050_v3\\good_images\n",
      "Plot peringkat disimpan di: Output/Aesthetic\\exp4_sd15_3050_v3\\ranked_plot_with_images_exp4_sd15_3050_v3.png\n",
      "✅ Selesai memproses exp4_sd15_3050_v3.\n",
      "\n",
      "▶️ Memproses 60 gambar dari eksperimen: exp5_sdxl_a6000\n"
     ]
    },
    {
     "data": {
      "application/vnd.jupyter.widget-view+json": {
       "model_id": "a5a0ecc5569a4880a011f0d2da3e6f3e",
       "version_major": 2,
       "version_minor": 0
      },
      "text/plain": [
       "Menilai exp5_sdxl_a6000:   0%|          | 0/60 [00:00<?, ?it/s]"
      ]
     },
     "metadata": {},
     "output_type": "display_data"
    },
    {
     "name": "stdout",
     "output_type": "stream",
     "text": [
      "Skor rata-rata: 12.4829 | Ambang batas 'Baik': 13.1070\n",
      "Menyimpan 19 gambar 'baik' ke: Output/Aesthetic\\exp5_sdxl_a6000\\good_images\n",
      "Plot peringkat disimpan di: Output/Aesthetic\\exp5_sdxl_a6000\\ranked_plot_with_images_exp5_sdxl_a6000.png\n",
      "✅ Selesai memproses exp5_sdxl_a6000.\n",
      "\n",
      "🎉 Semua eksperimen telah selesai dievaluasi!\n"
     ]
    }
   ],
   "source": [
    "if not experiment_folders:\n",
    "    print(\"Tidak ada folder untuk diproses. Silakan periksa kembali direktori Anda.\")\n",
    "else:\n",
    "    for exp_name in experiment_folders:\n",
    "        exp_input_dir = os.path.join(ROOT_DIR, exp_name)\n",
    "        exp_output_dir = os.path.join(MAIN_OUTPUT_DIR, exp_name)\n",
    "        good_images_dir = os.path.join(exp_output_dir, \"good_images\")\n",
    "        \n",
    "        os.makedirs(good_images_dir, exist_ok=True)\n",
    "        \n",
    "        results = []\n",
    "        image_files = [f for f in os.listdir(exp_input_dir) if f.lower().endswith(('.png', '.jpg', '.jpeg'))]\n",
    "\n",
    "        if not image_files:\n",
    "            print(f\"Tidak ada gambar ditemukan di '{exp_input_dir}'. Melanjutkan ke folder berikutnya.\")\n",
    "            continue\n",
    "\n",
    "        print(f\"\\n▶️ Memproses {len(image_files)} gambar dari eksperimen: {exp_name}\")\n",
    "        for filename in tqdm(image_files, desc=f\"Menilai {exp_name}\"):\n",
    "            try:\n",
    "                image_path = os.path.join(exp_input_dir, filename)\n",
    "                image = Image.open(image_path).convert(\"RGB\")\n",
    "                score = calculate_aesthetic_score(image, model, processor, device)\n",
    "                results.append({\"filename\": filename, \"aesthetic_score\": score})\n",
    "            except Exception as e:\n",
    "                print(f\"Tidak dapat memproses {filename}: {e}\")\n",
    "\n",
    "        if not results:\n",
    "            print(f\"Tidak ada gambar yang berhasil dinilai di {exp_name}. Melanjutkan ke folder berikutnya.\")\n",
    "            continue\n",
    "\n",
    "        df = pd.DataFrame(results)\n",
    "        df.sort_values(by=\"aesthetic_score\", ascending=False, inplace=True)\n",
    "        df.reset_index(drop=True, inplace=True)\n",
    "\n",
    "        csv_path = os.path.join(exp_output_dir, f'aesthetic_scores_{exp_name}.csv')\n",
    "        df.to_csv(csv_path, index=False)\n",
    "        \n",
    "        average_score = df['aesthetic_score'].mean()\n",
    "        good_threshold = average_score * GOOD_THRESHOLD_MULTIPLIER\n",
    "        good_images_df = df[df['aesthetic_score'] >= good_threshold]\n",
    "        \n",
    "        print(f\"Skor rata-rata: {average_score:.4f} | Ambang batas 'Baik': {good_threshold:.4f}\")\n",
    "        print(f\"Menyimpan {len(good_images_df)} gambar 'baik' ke: {good_images_dir}\")\n",
    "        \n",
    "        for _, row in good_images_df.iterrows():\n",
    "            src_path = os.path.join(exp_input_dir, row['filename'])\n",
    "            dst_path = os.path.join(good_images_dir, row['filename'])\n",
    "            shutil.copy(src_path, dst_path)\n",
    "\n",
    "        plot_path = os.path.join(exp_output_dir, f'ranked_plot_with_images_{exp_name}.png')\n",
    "        create_ranking_plot_with_images(df, exp_input_dir, plot_path, top_n=TOP_N_IMAGES_TO_PLOT)\n",
    "        print(f\"Plot peringkat disimpan di: {plot_path}\")\n",
    "        print(f\"✅ Selesai memproses {exp_name}.\")\n",
    "\n",
    "    print(\"\\n🎉 Semua eksperimen telah selesai dievaluasi!\")"
   ]
  }
 ],
 "metadata": {
  "kernelspec": {
   "display_name": "base",
   "language": "python",
   "name": "python3"
  },
  "language_info": {
   "codemirror_mode": {
    "name": "ipython",
    "version": 3
   },
   "file_extension": ".py",
   "mimetype": "text/x-python",
   "name": "python",
   "nbconvert_exporter": "python",
   "pygments_lexer": "ipython3",
   "version": "3.12.1"
  }
 },
 "nbformat": 4,
 "nbformat_minor": 5
}
